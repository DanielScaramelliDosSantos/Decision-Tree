{
 "cells": [
  {
   "cell_type": "markdown",
   "id": "c00fc8d8",
   "metadata": {},
   "source": [
    "## Arquivo e Biblioteca "
   ]
  },
  {
   "cell_type": "code",
   "execution_count": 47,
   "id": "de99e7f3",
   "metadata": {},
   "outputs": [],
   "source": [
    "import pandas as pd\n",
    "import numpy as np"
   ]
  },
  {
   "cell_type": "code",
   "execution_count": 48,
   "id": "d57ff1fc",
   "metadata": {},
   "outputs": [],
   "source": [
    "df = pd.read_excel('doncic_stats.xlsx')"
   ]
  },
  {
   "cell_type": "markdown",
   "id": "e56eb511",
   "metadata": {},
   "source": [
    "**Stats Doncic Temporada 22/23:**\n",
    "\n",
    "    - Rebotes: 8.9/jogo\n",
    "    - Assistências: 8.2/jogo\n",
    "    - Pontos: 33.4/jogo"
   ]
  },
  {
   "cell_type": "code",
   "execution_count": 49,
   "id": "eb2d824c",
   "metadata": {},
   "outputs": [
    {
     "data": {
      "text/html": [
       "<div>\n",
       "<style scoped>\n",
       "    .dataframe tbody tr th:only-of-type {\n",
       "        vertical-align: middle;\n",
       "    }\n",
       "\n",
       "    .dataframe tbody tr th {\n",
       "        vertical-align: top;\n",
       "    }\n",
       "\n",
       "    .dataframe thead th {\n",
       "        text-align: right;\n",
       "    }\n",
       "</style>\n",
       "<table border=\"1\" class=\"dataframe\">\n",
       "  <thead>\n",
       "    <tr style=\"text-align: right;\">\n",
       "      <th></th>\n",
       "      <th>mais_rebotes</th>\n",
       "      <th>mais_assistencias</th>\n",
       "      <th>mais_pontos</th>\n",
       "      <th>resultado</th>\n",
       "    </tr>\n",
       "  </thead>\n",
       "  <tbody>\n",
       "    <tr>\n",
       "      <th>0</th>\n",
       "      <td>Yes</td>\n",
       "      <td>Yes</td>\n",
       "      <td>Yes</td>\n",
       "      <td>W</td>\n",
       "    </tr>\n",
       "    <tr>\n",
       "      <th>1</th>\n",
       "      <td>No</td>\n",
       "      <td>No</td>\n",
       "      <td>Yes</td>\n",
       "      <td>W</td>\n",
       "    </tr>\n",
       "    <tr>\n",
       "      <th>2</th>\n",
       "      <td>No</td>\n",
       "      <td>Yes</td>\n",
       "      <td>Yes</td>\n",
       "      <td>W</td>\n",
       "    </tr>\n",
       "    <tr>\n",
       "      <th>3</th>\n",
       "      <td>No</td>\n",
       "      <td>Yes</td>\n",
       "      <td>Yes</td>\n",
       "      <td>W</td>\n",
       "    </tr>\n",
       "    <tr>\n",
       "      <th>4</th>\n",
       "      <td>No</td>\n",
       "      <td>No</td>\n",
       "      <td>Yes</td>\n",
       "      <td>W</td>\n",
       "    </tr>\n",
       "  </tbody>\n",
       "</table>\n",
       "</div>"
      ],
      "text/plain": [
       "  mais_rebotes mais_assistencias mais_pontos resultado\n",
       "0          Yes               Yes         Yes         W\n",
       "1           No                No         Yes         W\n",
       "2           No               Yes         Yes         W\n",
       "3           No               Yes         Yes         W\n",
       "4           No                No         Yes         W"
      ]
     },
     "execution_count": 49,
     "metadata": {},
     "output_type": "execute_result"
    }
   ],
   "source": [
    "df.head(5)"
   ]
  },
  {
   "cell_type": "markdown",
   "id": "b407e8d6",
   "metadata": {},
   "source": [
    "## Análise Geral dos Dados"
   ]
  },
  {
   "cell_type": "code",
   "execution_count": 50,
   "id": "c07ef679",
   "metadata": {},
   "outputs": [
    {
     "data": {
      "text/html": [
       "<div>\n",
       "<style scoped>\n",
       "    .dataframe tbody tr th:only-of-type {\n",
       "        vertical-align: middle;\n",
       "    }\n",
       "\n",
       "    .dataframe tbody tr th {\n",
       "        vertical-align: top;\n",
       "    }\n",
       "\n",
       "    .dataframe thead th {\n",
       "        text-align: right;\n",
       "    }\n",
       "</style>\n",
       "<table border=\"1\" class=\"dataframe\">\n",
       "  <thead>\n",
       "    <tr style=\"text-align: right;\">\n",
       "      <th></th>\n",
       "      <th>mais_rebotes</th>\n",
       "      <th>mais_assistencias</th>\n",
       "      <th>mais_pontos</th>\n",
       "      <th>resultado</th>\n",
       "    </tr>\n",
       "  </thead>\n",
       "  <tbody>\n",
       "    <tr>\n",
       "      <th>count</th>\n",
       "      <td>48</td>\n",
       "      <td>48</td>\n",
       "      <td>48</td>\n",
       "      <td>48</td>\n",
       "    </tr>\n",
       "    <tr>\n",
       "      <th>unique</th>\n",
       "      <td>2</td>\n",
       "      <td>2</td>\n",
       "      <td>2</td>\n",
       "      <td>2</td>\n",
       "    </tr>\n",
       "    <tr>\n",
       "      <th>top</th>\n",
       "      <td>No</td>\n",
       "      <td>No</td>\n",
       "      <td>No</td>\n",
       "      <td>W</td>\n",
       "    </tr>\n",
       "    <tr>\n",
       "      <th>freq</th>\n",
       "      <td>24</td>\n",
       "      <td>25</td>\n",
       "      <td>25</td>\n",
       "      <td>28</td>\n",
       "    </tr>\n",
       "  </tbody>\n",
       "</table>\n",
       "</div>"
      ],
      "text/plain": [
       "       mais_rebotes mais_assistencias mais_pontos resultado\n",
       "count            48                48          48        48\n",
       "unique            2                 2           2         2\n",
       "top              No                No          No         W\n",
       "freq             24                25          25        28"
      ]
     },
     "execution_count": 50,
     "metadata": {},
     "output_type": "execute_result"
    }
   ],
   "source": [
    "df.describe()"
   ]
  },
  {
   "cell_type": "markdown",
   "id": "11b1be85",
   "metadata": {},
   "source": [
    "**Características:**\n",
    "\n",
    "1. Média próxima da mediana (com base na frequência de sim/não)\n",
    "2. O Dallas Mavericks é um time que tem números parecidos de vitórias e derrotas (28 x 20), o que é bom para nossa análise (que poderia ser enviesada caso algum resultado fosse muito mais proeminente que outro)"
   ]
  },
  {
   "cell_type": "markdown",
   "id": "7fffc025",
   "metadata": {},
   "source": [
    "## Explicação do algoritmo CART (Índice Gini)"
   ]
  },
  {
   "cell_type": "markdown",
   "id": "dd9cce33",
   "metadata": {},
   "source": [
    "Primeiramente, devemos calcular o índice Gini associado à coluna de resultado, conforme fórmula abaixo:"
   ]
  },
  {
   "attachments": {
    "1_FAijCE_5ypjW5VTFWiAFcw.webp": {
     "image/webp": "[encoded data removed]"
    }
   },
   "cell_type": "markdown",
   "id": "d28562fb",
   "metadata": {},
   "source": [
    "![1_FAijCE_5ypjW5VTFWiAFcw.webp](attachment:1_FAijCE_5ypjW5VTFWiAFcw.webp)"
   ]
  },
  {
   "cell_type": "markdown",
   "id": "3e65282d",
   "metadata": {},
   "source": [
    "**No nosso dataframe**: Gini(E) = 1 - (28/48)^2 - (20/48)^2 = 0.486"
   ]
  },
  {
   "cell_type": "markdown",
   "id": "24e224cb",
   "metadata": {},
   "source": [
    "Após isso, devemos calcular a média ponderada dos índices Gini de cada uma das features (rebotes, assistências e pontos)."
   ]
  },
  {
   "cell_type": "markdown",
   "id": "7bb4b277",
   "metadata": {},
   "source": [
    "Feito isso, calculamos a diferença entre o Gini do resultado e o Gini de cada uma das features - chamamos essa diferença de **ganho de informação**."
   ]
  },
  {
   "cell_type": "markdown",
   "id": "ce2c1824",
   "metadata": {},
   "source": [
    "A feature com maior ganho de informação será o nosso nó raiz. A partir dele, dividiremos o nó em dois sub-nós (Yes e No) e, pra cada um deles, reiniciaremos o processo realizado anteriormente, até que todos os nós estejam completos."
   ]
  },
  {
   "cell_type": "markdown",
   "id": "cc051b95",
   "metadata": {},
   "source": [
    "## Construção do Algoritmo - Nó Principal"
   ]
  },
  {
   "cell_type": "code",
   "execution_count": 51,
   "id": "8dd7290c",
   "metadata": {},
   "outputs": [],
   "source": [
    "def gini(num_yes,num_no):\n",
    "    valor = 1 - (num_yes/(num_yes+num_no))*(num_yes/(num_yes+num_no)) - (num_no/(num_yes+num_no))*(num_no/(num_yes+num_no))\n",
    "    return valor\n",
    "def gini_feature(gini_yes, gini_no, num_yes, num_no):\n",
    "    return gini_yes*(num_yes/(num_yes+num_no)) + gini_no*(num_no/(num_yes+num_no))\n",
    "def ganho_info(gini_principal, gini_feature):\n",
    "    return gini_principal - gini_feature"
   ]
  },
  {
   "cell_type": "code",
   "execution_count": 52,
   "id": "746c3af5",
   "metadata": {},
   "outputs": [],
   "source": [
    "#Quantidades - Nó Principal\n",
    "resultado_yes = 28\n",
    "resultado_no = 20\n",
    "rebotes_yes = 24\n",
    "rebotes_no = 24\n",
    "assistencias_yes = 23\n",
    "assistencias_no = 25\n",
    "pontos_yes = 23\n",
    "pontos_no = 25\n",
    "#Índice Gini global\n",
    "gini_resultado = gini(resultado_yes, resultado_no)"
   ]
  },
  {
   "cell_type": "markdown",
   "id": "85198cc9",
   "metadata": {},
   "source": [
    "### Rebotes"
   ]
  },
  {
   "cell_type": "code",
   "execution_count": 53,
   "id": "b359e067",
   "metadata": {},
   "outputs": [
    {
     "data": {
      "text/html": [
       "<div>\n",
       "<style scoped>\n",
       "    .dataframe tbody tr th:only-of-type {\n",
       "        vertical-align: middle;\n",
       "    }\n",
       "\n",
       "    .dataframe tbody tr th {\n",
       "        vertical-align: top;\n",
       "    }\n",
       "\n",
       "    .dataframe thead th {\n",
       "        text-align: right;\n",
       "    }\n",
       "</style>\n",
       "<table border=\"1\" class=\"dataframe\">\n",
       "  <thead>\n",
       "    <tr style=\"text-align: right;\">\n",
       "      <th>resultado</th>\n",
       "      <th>L</th>\n",
       "      <th>W</th>\n",
       "    </tr>\n",
       "    <tr>\n",
       "      <th>mais_rebotes</th>\n",
       "      <th></th>\n",
       "      <th></th>\n",
       "    </tr>\n",
       "  </thead>\n",
       "  <tbody>\n",
       "    <tr>\n",
       "      <th>No</th>\n",
       "      <td>11</td>\n",
       "      <td>13</td>\n",
       "    </tr>\n",
       "    <tr>\n",
       "      <th>Yes</th>\n",
       "      <td>9</td>\n",
       "      <td>15</td>\n",
       "    </tr>\n",
       "  </tbody>\n",
       "</table>\n",
       "</div>"
      ],
      "text/plain": [
       "resultado      L   W\n",
       "mais_rebotes        \n",
       "No            11  13\n",
       "Yes            9  15"
      ]
     },
     "execution_count": 53,
     "metadata": {},
     "output_type": "execute_result"
    }
   ],
   "source": [
    "#Tabela de Contingência Resultado - Rebote\n",
    "pd.crosstab(index=df['mais_rebotes'], columns=df['resultado'])"
   ]
  },
  {
   "cell_type": "code",
   "execution_count": 54,
   "id": "97d19454",
   "metadata": {},
   "outputs": [
    {
     "name": "stdout",
     "output_type": "stream",
     "text": [
      "O ganho de informação com rebotes é de:  0.003472222222221988\n"
     ]
    }
   ],
   "source": [
    "gini_rebotes = gini_feature(gini(9,15), gini(11,13),rebotes_yes, rebotes_no)\n",
    "#Calculando os ganhos de informação\n",
    "ganho_rebotes = ganho_info(gini_resultado, gini_rebotes)\n",
    "print(\"O ganho de informação com rebotes é de: \", ganho_rebotes)"
   ]
  },
  {
   "cell_type": "markdown",
   "id": "84b614e1",
   "metadata": {},
   "source": [
    "### Assistências"
   ]
  },
  {
   "cell_type": "code",
   "execution_count": 55,
   "id": "01bd6a2b",
   "metadata": {},
   "outputs": [
    {
     "data": {
      "text/html": [
       "<div>\n",
       "<style scoped>\n",
       "    .dataframe tbody tr th:only-of-type {\n",
       "        vertical-align: middle;\n",
       "    }\n",
       "\n",
       "    .dataframe tbody tr th {\n",
       "        vertical-align: top;\n",
       "    }\n",
       "\n",
       "    .dataframe thead th {\n",
       "        text-align: right;\n",
       "    }\n",
       "</style>\n",
       "<table border=\"1\" class=\"dataframe\">\n",
       "  <thead>\n",
       "    <tr style=\"text-align: right;\">\n",
       "      <th>resultado</th>\n",
       "      <th>L</th>\n",
       "      <th>W</th>\n",
       "    </tr>\n",
       "    <tr>\n",
       "      <th>mais_assistencias</th>\n",
       "      <th></th>\n",
       "      <th></th>\n",
       "    </tr>\n",
       "  </thead>\n",
       "  <tbody>\n",
       "    <tr>\n",
       "      <th>No</th>\n",
       "      <td>13</td>\n",
       "      <td>12</td>\n",
       "    </tr>\n",
       "    <tr>\n",
       "      <th>Yes</th>\n",
       "      <td>7</td>\n",
       "      <td>16</td>\n",
       "    </tr>\n",
       "  </tbody>\n",
       "</table>\n",
       "</div>"
      ],
      "text/plain": [
       "resultado           L   W\n",
       "mais_assistencias        \n",
       "No                 13  12\n",
       "Yes                 7  16"
      ]
     },
     "execution_count": 55,
     "metadata": {},
     "output_type": "execute_result"
    }
   ],
   "source": [
    "#Tabela de Contingência Resultado - Rebote\n",
    "pd.crosstab(index=df['mais_assistencias'], columns=df['resultado'])"
   ]
  },
  {
   "cell_type": "code",
   "execution_count": 56,
   "id": "5eeccc03",
   "metadata": {},
   "outputs": [
    {
     "name": "stdout",
     "output_type": "stream",
     "text": [
      "O ganho de informação com assistências é de:  0.023212560386473235\n"
     ]
    }
   ],
   "source": [
    "gini_assistencias = gini_feature(gini(7,16), gini(13,12),assistencias_yes, assistencias_no)\n",
    "#Calculando os ganhos de informação\n",
    "ganho_assistencias = ganho_info(gini_resultado, gini_assistencias)\n",
    "print(\"O ganho de informação com assistências é de: \", ganho_assistencias)"
   ]
  },
  {
   "cell_type": "markdown",
   "id": "5ebdacb0",
   "metadata": {},
   "source": [
    "### Pontos"
   ]
  },
  {
   "cell_type": "code",
   "execution_count": 57,
   "id": "57d4277d",
   "metadata": {},
   "outputs": [
    {
     "data": {
      "text/html": [
       "<div>\n",
       "<style scoped>\n",
       "    .dataframe tbody tr th:only-of-type {\n",
       "        vertical-align: middle;\n",
       "    }\n",
       "\n",
       "    .dataframe tbody tr th {\n",
       "        vertical-align: top;\n",
       "    }\n",
       "\n",
       "    .dataframe thead th {\n",
       "        text-align: right;\n",
       "    }\n",
       "</style>\n",
       "<table border=\"1\" class=\"dataframe\">\n",
       "  <thead>\n",
       "    <tr style=\"text-align: right;\">\n",
       "      <th>resultado</th>\n",
       "      <th>L</th>\n",
       "      <th>W</th>\n",
       "    </tr>\n",
       "    <tr>\n",
       "      <th>mais_pontos</th>\n",
       "      <th></th>\n",
       "      <th></th>\n",
       "    </tr>\n",
       "  </thead>\n",
       "  <tbody>\n",
       "    <tr>\n",
       "      <th>No</th>\n",
       "      <td>14</td>\n",
       "      <td>11</td>\n",
       "    </tr>\n",
       "    <tr>\n",
       "      <th>Yes</th>\n",
       "      <td>6</td>\n",
       "      <td>17</td>\n",
       "    </tr>\n",
       "  </tbody>\n",
       "</table>\n",
       "</div>"
      ],
      "text/plain": [
       "resultado     L   W\n",
       "mais_pontos        \n",
       "No           14  11\n",
       "Yes           6  17"
      ]
     },
     "execution_count": 57,
     "metadata": {},
     "output_type": "execute_result"
    }
   ],
   "source": [
    "#Tabela de Contingência Resultado - Rebote\n",
    "pd.crosstab(index=df['mais_pontos'], columns=df['resultado'])"
   ]
  },
  {
   "cell_type": "code",
   "execution_count": 58,
   "id": "b743101c",
   "metadata": {},
   "outputs": [
    {
     "name": "stdout",
     "output_type": "stream",
     "text": [
      "O ganho de informação com pontos é de:  0.04466183574879201\n"
     ]
    }
   ],
   "source": [
    "gini_pontos = gini_feature(gini(6,17), gini(14,11),pontos_yes, pontos_no)\n",
    "#Calculando os ganhos de informação\n",
    "ganho_pontos = ganho_info(gini_resultado, gini_pontos)\n",
    "print(\"O ganho de informação com pontos é de: \", ganho_pontos)"
   ]
  },
  {
   "cell_type": "markdown",
   "id": "f2daae6f",
   "metadata": {},
   "source": [
    "Portanto, o nó principal - aquele com maior ganho de informação - é **pontos**"
   ]
  },
  {
   "cell_type": "markdown",
   "id": "ddba9a59",
   "metadata": {},
   "source": [
    "## Construção do Algoritmo - Nós Secundários"
   ]
  },
  {
   "cell_type": "code",
   "execution_count": 59,
   "id": "f90b865f",
   "metadata": {},
   "outputs": [],
   "source": [
    "df_pontos_no = df.loc[df['mais_pontos'] == 'No']\n",
    "df_pontos_yes = df.loc[df['mais_pontos'] == 'Yes']"
   ]
  },
  {
   "cell_type": "markdown",
   "id": "412a25e0",
   "metadata": {},
   "source": [
    "### Nó com menos de 33.6 pontos"
   ]
  },
  {
   "cell_type": "code",
   "execution_count": 60,
   "id": "3a1cbf8d",
   "metadata": {},
   "outputs": [
    {
     "data": {
      "text/html": [
       "<div>\n",
       "<style scoped>\n",
       "    .dataframe tbody tr th:only-of-type {\n",
       "        vertical-align: middle;\n",
       "    }\n",
       "\n",
       "    .dataframe tbody tr th {\n",
       "        vertical-align: top;\n",
       "    }\n",
       "\n",
       "    .dataframe thead th {\n",
       "        text-align: right;\n",
       "    }\n",
       "</style>\n",
       "<table border=\"1\" class=\"dataframe\">\n",
       "  <thead>\n",
       "    <tr style=\"text-align: right;\">\n",
       "      <th></th>\n",
       "      <th>mais_rebotes</th>\n",
       "      <th>mais_assistencias</th>\n",
       "      <th>mais_pontos</th>\n",
       "      <th>resultado</th>\n",
       "    </tr>\n",
       "  </thead>\n",
       "  <tbody>\n",
       "    <tr>\n",
       "      <th>count</th>\n",
       "      <td>25</td>\n",
       "      <td>25</td>\n",
       "      <td>25</td>\n",
       "      <td>25</td>\n",
       "    </tr>\n",
       "    <tr>\n",
       "      <th>unique</th>\n",
       "      <td>2</td>\n",
       "      <td>2</td>\n",
       "      <td>1</td>\n",
       "      <td>2</td>\n",
       "    </tr>\n",
       "    <tr>\n",
       "      <th>top</th>\n",
       "      <td>No</td>\n",
       "      <td>No</td>\n",
       "      <td>No</td>\n",
       "      <td>L</td>\n",
       "    </tr>\n",
       "    <tr>\n",
       "      <th>freq</th>\n",
       "      <td>16</td>\n",
       "      <td>13</td>\n",
       "      <td>25</td>\n",
       "      <td>14</td>\n",
       "    </tr>\n",
       "  </tbody>\n",
       "</table>\n",
       "</div>"
      ],
      "text/plain": [
       "       mais_rebotes mais_assistencias mais_pontos resultado\n",
       "count            25                25          25        25\n",
       "unique            2                 2           1         2\n",
       "top              No                No          No         L\n",
       "freq             16                13          25        14"
      ]
     },
     "execution_count": 60,
     "metadata": {},
     "output_type": "execute_result"
    }
   ],
   "source": [
    "df_pontos_no.describe()"
   ]
  },
  {
   "cell_type": "code",
   "execution_count": 61,
   "id": "9f72485e",
   "metadata": {},
   "outputs": [],
   "source": [
    "rebotes_yes_2 = 9\n",
    "rebotes_no_2 = 16\n",
    "assistencias_yes_2 = 12\n",
    "assistencias_no_2 = 13\n",
    "resultado_yes_2 = 11\n",
    "resultado_no_2 = 14\n",
    "#Índice Gini global\n",
    "gini_resultado_2 = gini(resultado_yes_2, resultado_no_2)"
   ]
  },
  {
   "cell_type": "markdown",
   "id": "fb48ecf5",
   "metadata": {},
   "source": [
    "#### Rebotes"
   ]
  },
  {
   "cell_type": "code",
   "execution_count": 62,
   "id": "191cee5a",
   "metadata": {},
   "outputs": [
    {
     "data": {
      "text/html": [
       "<div>\n",
       "<style scoped>\n",
       "    .dataframe tbody tr th:only-of-type {\n",
       "        vertical-align: middle;\n",
       "    }\n",
       "\n",
       "    .dataframe tbody tr th {\n",
       "        vertical-align: top;\n",
       "    }\n",
       "\n",
       "    .dataframe thead th {\n",
       "        text-align: right;\n",
       "    }\n",
       "</style>\n",
       "<table border=\"1\" class=\"dataframe\">\n",
       "  <thead>\n",
       "    <tr style=\"text-align: right;\">\n",
       "      <th>resultado</th>\n",
       "      <th>L</th>\n",
       "      <th>W</th>\n",
       "    </tr>\n",
       "    <tr>\n",
       "      <th>mais_rebotes</th>\n",
       "      <th></th>\n",
       "      <th></th>\n",
       "    </tr>\n",
       "  </thead>\n",
       "  <tbody>\n",
       "    <tr>\n",
       "      <th>No</th>\n",
       "      <td>9</td>\n",
       "      <td>7</td>\n",
       "    </tr>\n",
       "    <tr>\n",
       "      <th>Yes</th>\n",
       "      <td>5</td>\n",
       "      <td>4</td>\n",
       "    </tr>\n",
       "  </tbody>\n",
       "</table>\n",
       "</div>"
      ],
      "text/plain": [
       "resultado     L  W\n",
       "mais_rebotes      \n",
       "No            9  7\n",
       "Yes           5  4"
      ]
     },
     "execution_count": 62,
     "metadata": {},
     "output_type": "execute_result"
    }
   ],
   "source": [
    "#Tabela de Contingência Resultado - Rebote\n",
    "pd.crosstab(index=df_pontos_no['mais_rebotes'], columns=df_pontos_no['resultado'])"
   ]
  },
  {
   "cell_type": "code",
   "execution_count": 63,
   "id": "239039e6",
   "metadata": {},
   "outputs": [
    {
     "name": "stdout",
     "output_type": "stream",
     "text": [
      "O ganho de informação com rebotes é de:  2.222222222220127e-05\n"
     ]
    }
   ],
   "source": [
    "gini_rebotes_2 = gini_feature(gini(5,4), gini(9,7),rebotes_yes_2, rebotes_no_2)\n",
    "#Calculando os ganhos de informação\n",
    "ganho_rebotes_2 = ganho_info(gini_resultado_2, gini_rebotes_2)\n",
    "print(\"O ganho de informação com rebotes é de: \", ganho_rebotes_2)"
   ]
  },
  {
   "cell_type": "markdown",
   "id": "cfcf5a7f",
   "metadata": {},
   "source": [
    "#### Assistências"
   ]
  },
  {
   "cell_type": "code",
   "execution_count": 64,
   "id": "bc923546",
   "metadata": {},
   "outputs": [
    {
     "data": {
      "text/html": [
       "<div>\n",
       "<style scoped>\n",
       "    .dataframe tbody tr th:only-of-type {\n",
       "        vertical-align: middle;\n",
       "    }\n",
       "\n",
       "    .dataframe tbody tr th {\n",
       "        vertical-align: top;\n",
       "    }\n",
       "\n",
       "    .dataframe thead th {\n",
       "        text-align: right;\n",
       "    }\n",
       "</style>\n",
       "<table border=\"1\" class=\"dataframe\">\n",
       "  <thead>\n",
       "    <tr style=\"text-align: right;\">\n",
       "      <th>resultado</th>\n",
       "      <th>L</th>\n",
       "      <th>W</th>\n",
       "    </tr>\n",
       "    <tr>\n",
       "      <th>mais_assistencias</th>\n",
       "      <th></th>\n",
       "      <th></th>\n",
       "    </tr>\n",
       "  </thead>\n",
       "  <tbody>\n",
       "    <tr>\n",
       "      <th>No</th>\n",
       "      <td>9</td>\n",
       "      <td>4</td>\n",
       "    </tr>\n",
       "    <tr>\n",
       "      <th>Yes</th>\n",
       "      <td>5</td>\n",
       "      <td>7</td>\n",
       "    </tr>\n",
       "  </tbody>\n",
       "</table>\n",
       "</div>"
      ],
      "text/plain": [
       "resultado          L  W\n",
       "mais_assistencias      \n",
       "No                 9  4\n",
       "Yes                5  7"
      ]
     },
     "execution_count": 64,
     "metadata": {},
     "output_type": "execute_result"
    }
   ],
   "source": [
    "#Tabela de Contingência Resultado - Assistências\n",
    "pd.crosstab(index=df_pontos_no['mais_assistencias'], columns=df_pontos_no['resultado'])"
   ]
  },
  {
   "cell_type": "code",
   "execution_count": 65,
   "id": "4843d9f6",
   "metadata": {},
   "outputs": [
    {
     "name": "stdout",
     "output_type": "stream",
     "text": [
      "O ganho de informação com rebotes é de:  0.03792820512820516\n"
     ]
    }
   ],
   "source": [
    "gini_assistencias_2 = gini_feature(gini(5,7), gini(9,4),assistencias_yes_2, assistencias_no_2)\n",
    "#Calculando os ganhos de informação\n",
    "ganho_assistencias_2 = ganho_info(gini_resultado_2, gini_assistencias_2)\n",
    "print(\"O ganho de informação com rebotes é de: \", ganho_assistencias_2)"
   ]
  },
  {
   "cell_type": "markdown",
   "id": "b0c85863",
   "metadata": {},
   "source": [
    "Portanto, para o primeiro nó secundário, a varíavel com maior ganho de informação é **assistências**"
   ]
  },
  {
   "cell_type": "markdown",
   "id": "05760b71",
   "metadata": {},
   "source": [
    "### Nó com mais de 33.6 pontos"
   ]
  },
  {
   "cell_type": "code",
   "execution_count": 66,
   "id": "b81f419a",
   "metadata": {},
   "outputs": [
    {
     "data": {
      "text/html": [
       "<div>\n",
       "<style scoped>\n",
       "    .dataframe tbody tr th:only-of-type {\n",
       "        vertical-align: middle;\n",
       "    }\n",
       "\n",
       "    .dataframe tbody tr th {\n",
       "        vertical-align: top;\n",
       "    }\n",
       "\n",
       "    .dataframe thead th {\n",
       "        text-align: right;\n",
       "    }\n",
       "</style>\n",
       "<table border=\"1\" class=\"dataframe\">\n",
       "  <thead>\n",
       "    <tr style=\"text-align: right;\">\n",
       "      <th></th>\n",
       "      <th>mais_rebotes</th>\n",
       "      <th>mais_assistencias</th>\n",
       "      <th>mais_pontos</th>\n",
       "      <th>resultado</th>\n",
       "    </tr>\n",
       "  </thead>\n",
       "  <tbody>\n",
       "    <tr>\n",
       "      <th>count</th>\n",
       "      <td>23</td>\n",
       "      <td>23</td>\n",
       "      <td>23</td>\n",
       "      <td>23</td>\n",
       "    </tr>\n",
       "    <tr>\n",
       "      <th>unique</th>\n",
       "      <td>2</td>\n",
       "      <td>2</td>\n",
       "      <td>1</td>\n",
       "      <td>2</td>\n",
       "    </tr>\n",
       "    <tr>\n",
       "      <th>top</th>\n",
       "      <td>Yes</td>\n",
       "      <td>No</td>\n",
       "      <td>Yes</td>\n",
       "      <td>W</td>\n",
       "    </tr>\n",
       "    <tr>\n",
       "      <th>freq</th>\n",
       "      <td>15</td>\n",
       "      <td>12</td>\n",
       "      <td>23</td>\n",
       "      <td>17</td>\n",
       "    </tr>\n",
       "  </tbody>\n",
       "</table>\n",
       "</div>"
      ],
      "text/plain": [
       "       mais_rebotes mais_assistencias mais_pontos resultado\n",
       "count            23                23          23        23\n",
       "unique            2                 2           1         2\n",
       "top             Yes                No         Yes         W\n",
       "freq             15                12          23        17"
      ]
     },
     "execution_count": 66,
     "metadata": {},
     "output_type": "execute_result"
    }
   ],
   "source": [
    "df_pontos_yes.describe()"
   ]
  },
  {
   "cell_type": "code",
   "execution_count": 67,
   "id": "ac125020",
   "metadata": {},
   "outputs": [],
   "source": [
    "rebotes_yes_3 = 15\n",
    "rebotes_no_3 = 8\n",
    "assistencias_yes_3 = 11\n",
    "assistencias_no_3 = 12\n",
    "resultado_yes_3 = 17\n",
    "resultado_no_3 = 6\n",
    "#Índice Gini global\n",
    "gini_resultado_3 = gini(resultado_yes_3, resultado_no_3)"
   ]
  },
  {
   "cell_type": "markdown",
   "id": "8c834a26",
   "metadata": {},
   "source": [
    "#### Rebotes"
   ]
  },
  {
   "cell_type": "code",
   "execution_count": 68,
   "id": "3fe56c65",
   "metadata": {},
   "outputs": [
    {
     "data": {
      "text/html": [
       "<div>\n",
       "<style scoped>\n",
       "    .dataframe tbody tr th:only-of-type {\n",
       "        vertical-align: middle;\n",
       "    }\n",
       "\n",
       "    .dataframe tbody tr th {\n",
       "        vertical-align: top;\n",
       "    }\n",
       "\n",
       "    .dataframe thead th {\n",
       "        text-align: right;\n",
       "    }\n",
       "</style>\n",
       "<table border=\"1\" class=\"dataframe\">\n",
       "  <thead>\n",
       "    <tr style=\"text-align: right;\">\n",
       "      <th>resultado</th>\n",
       "      <th>L</th>\n",
       "      <th>W</th>\n",
       "    </tr>\n",
       "    <tr>\n",
       "      <th>mais_rebotes</th>\n",
       "      <th></th>\n",
       "      <th></th>\n",
       "    </tr>\n",
       "  </thead>\n",
       "  <tbody>\n",
       "    <tr>\n",
       "      <th>No</th>\n",
       "      <td>2</td>\n",
       "      <td>6</td>\n",
       "    </tr>\n",
       "    <tr>\n",
       "      <th>Yes</th>\n",
       "      <td>4</td>\n",
       "      <td>11</td>\n",
       "    </tr>\n",
       "  </tbody>\n",
       "</table>\n",
       "</div>"
      ],
      "text/plain": [
       "resultado     L   W\n",
       "mais_rebotes       \n",
       "No            2   6\n",
       "Yes           4  11"
      ]
     },
     "execution_count": 68,
     "metadata": {},
     "output_type": "execute_result"
    }
   ],
   "source": [
    "#Tabela de Contingência Resultado - Rebote\n",
    "pd.crosstab(index=df_pontos_yes['mais_rebotes'], columns=df_pontos_yes['resultado'])"
   ]
  },
  {
   "cell_type": "code",
   "execution_count": 69,
   "id": "124eca45",
   "metadata": {},
   "outputs": [
    {
     "name": "stdout",
     "output_type": "stream",
     "text": [
      "O ganho de informação com rebotes é de:  0.0001260239445495248\n"
     ]
    }
   ],
   "source": [
    "gini_rebotes_3 = gini_feature(gini(4,11), gini(2,6),rebotes_yes_3, rebotes_no_3)\n",
    "#Calculando os ganhos de informação\n",
    "ganho_rebotes_3 = ganho_info(gini_resultado_3, gini_rebotes_3)\n",
    "print(\"O ganho de informação com rebotes é de: \", ganho_rebotes_3)"
   ]
  },
  {
   "cell_type": "markdown",
   "id": "41e55885",
   "metadata": {},
   "source": [
    "#### Assistências"
   ]
  },
  {
   "cell_type": "code",
   "execution_count": 70,
   "id": "7a7adf0d",
   "metadata": {},
   "outputs": [
    {
     "data": {
      "text/html": [
       "<div>\n",
       "<style scoped>\n",
       "    .dataframe tbody tr th:only-of-type {\n",
       "        vertical-align: middle;\n",
       "    }\n",
       "\n",
       "    .dataframe tbody tr th {\n",
       "        vertical-align: top;\n",
       "    }\n",
       "\n",
       "    .dataframe thead th {\n",
       "        text-align: right;\n",
       "    }\n",
       "</style>\n",
       "<table border=\"1\" class=\"dataframe\">\n",
       "  <thead>\n",
       "    <tr style=\"text-align: right;\">\n",
       "      <th>resultado</th>\n",
       "      <th>L</th>\n",
       "      <th>W</th>\n",
       "    </tr>\n",
       "    <tr>\n",
       "      <th>mais_assistencias</th>\n",
       "      <th></th>\n",
       "      <th></th>\n",
       "    </tr>\n",
       "  </thead>\n",
       "  <tbody>\n",
       "    <tr>\n",
       "      <th>No</th>\n",
       "      <td>4</td>\n",
       "      <td>8</td>\n",
       "    </tr>\n",
       "    <tr>\n",
       "      <th>Yes</th>\n",
       "      <td>2</td>\n",
       "      <td>9</td>\n",
       "    </tr>\n",
       "  </tbody>\n",
       "</table>\n",
       "</div>"
      ],
      "text/plain": [
       "resultado          L  W\n",
       "mais_assistencias      \n",
       "No                 4  8\n",
       "Yes                2  9"
      ]
     },
     "execution_count": 70,
     "metadata": {},
     "output_type": "execute_result"
    }
   ],
   "source": [
    "#Tabela de Contingência Resultado - Assistências\n",
    "pd.crosstab(index=df_pontos_yes['mais_assistencias'], columns=df_pontos_yes['resultado'])"
   ]
  },
  {
   "cell_type": "code",
   "execution_count": 71,
   "id": "ddf09880",
   "metadata": {},
   "outputs": [
    {
     "name": "stdout",
     "output_type": "stream",
     "text": [
      "O ganho de informação com rebotes é de:  0.01145672223176969\n"
     ]
    }
   ],
   "source": [
    "gini_assistencias_3 = gini_feature(gini(2,9), gini(4,8),assistencias_yes_3, assistencias_no_3)\n",
    "#Calculando os ganhos de informação\n",
    "ganho_assistencias_3 = ganho_info(gini_resultado_3, gini_assistencias_3)\n",
    "print(\"O ganho de informação com rebotes é de: \", ganho_assistencias_3)"
   ]
  },
  {
   "cell_type": "markdown",
   "id": "0d2bb860",
   "metadata": {},
   "source": [
    "Novamente, a variável com maior ganho de informação é **assistências**."
   ]
  },
  {
   "cell_type": "markdown",
   "id": "55f778fa",
   "metadata": {},
   "source": [
    "## Construção do Algoritmo - Nós Terciários"
   ]
  },
  {
   "cell_type": "code",
   "execution_count": 72,
   "id": "1fa3829e",
   "metadata": {},
   "outputs": [],
   "source": [
    "df_pontos_no_assists_no = df.loc[(df['mais_pontos'] == 'No') & (df['mais_assistencias'] == 'No')]\n",
    "df_pontos_no_assists_yes = df.loc[(df['mais_pontos'] == 'No') & (df['mais_assistencias'] == 'Yes')]\n",
    "df_pontos_yes_assists_no = df.loc[(df['mais_pontos'] == 'Yes') & (df['mais_assistencias'] == 'No')]\n",
    "df_pontos_yes_assists_yes = df.loc[(df['mais_pontos'] == 'Yes') & (df['mais_assistencias'] == 'Yes')]"
   ]
  },
  {
   "cell_type": "markdown",
   "id": "fdbe7fa7",
   "metadata": {},
   "source": [
    "### Nó com menos de 33.6 pontos e menos de 8.2 assistências"
   ]
  },
  {
   "cell_type": "code",
   "execution_count": 73,
   "id": "4baa5c7d",
   "metadata": {},
   "outputs": [
    {
     "data": {
      "text/html": [
       "<div>\n",
       "<style scoped>\n",
       "    .dataframe tbody tr th:only-of-type {\n",
       "        vertical-align: middle;\n",
       "    }\n",
       "\n",
       "    .dataframe tbody tr th {\n",
       "        vertical-align: top;\n",
       "    }\n",
       "\n",
       "    .dataframe thead th {\n",
       "        text-align: right;\n",
       "    }\n",
       "</style>\n",
       "<table border=\"1\" class=\"dataframe\">\n",
       "  <thead>\n",
       "    <tr style=\"text-align: right;\">\n",
       "      <th></th>\n",
       "      <th>mais_rebotes</th>\n",
       "      <th>mais_assistencias</th>\n",
       "      <th>mais_pontos</th>\n",
       "      <th>resultado</th>\n",
       "    </tr>\n",
       "  </thead>\n",
       "  <tbody>\n",
       "    <tr>\n",
       "      <th>count</th>\n",
       "      <td>13</td>\n",
       "      <td>13</td>\n",
       "      <td>13</td>\n",
       "      <td>13</td>\n",
       "    </tr>\n",
       "    <tr>\n",
       "      <th>unique</th>\n",
       "      <td>2</td>\n",
       "      <td>1</td>\n",
       "      <td>1</td>\n",
       "      <td>2</td>\n",
       "    </tr>\n",
       "    <tr>\n",
       "      <th>top</th>\n",
       "      <td>No</td>\n",
       "      <td>No</td>\n",
       "      <td>No</td>\n",
       "      <td>L</td>\n",
       "    </tr>\n",
       "    <tr>\n",
       "      <th>freq</th>\n",
       "      <td>9</td>\n",
       "      <td>13</td>\n",
       "      <td>13</td>\n",
       "      <td>9</td>\n",
       "    </tr>\n",
       "  </tbody>\n",
       "</table>\n",
       "</div>"
      ],
      "text/plain": [
       "       mais_rebotes mais_assistencias mais_pontos resultado\n",
       "count            13                13          13        13\n",
       "unique            2                 1           1         2\n",
       "top              No                No          No         L\n",
       "freq              9                13          13         9"
      ]
     },
     "execution_count": 73,
     "metadata": {},
     "output_type": "execute_result"
    }
   ],
   "source": [
    "df_pontos_no_assists_no.describe()"
   ]
  },
  {
   "cell_type": "code",
   "execution_count": 74,
   "id": "aa1f600e",
   "metadata": {},
   "outputs": [
    {
     "data": {
      "text/html": [
       "<div>\n",
       "<style scoped>\n",
       "    .dataframe tbody tr th:only-of-type {\n",
       "        vertical-align: middle;\n",
       "    }\n",
       "\n",
       "    .dataframe tbody tr th {\n",
       "        vertical-align: top;\n",
       "    }\n",
       "\n",
       "    .dataframe thead th {\n",
       "        text-align: right;\n",
       "    }\n",
       "</style>\n",
       "<table border=\"1\" class=\"dataframe\">\n",
       "  <thead>\n",
       "    <tr style=\"text-align: right;\">\n",
       "      <th>resultado</th>\n",
       "      <th>L</th>\n",
       "      <th>W</th>\n",
       "    </tr>\n",
       "    <tr>\n",
       "      <th>mais_rebotes</th>\n",
       "      <th></th>\n",
       "      <th></th>\n",
       "    </tr>\n",
       "  </thead>\n",
       "  <tbody>\n",
       "    <tr>\n",
       "      <th>No</th>\n",
       "      <td>5</td>\n",
       "      <td>4</td>\n",
       "    </tr>\n",
       "    <tr>\n",
       "      <th>Yes</th>\n",
       "      <td>4</td>\n",
       "      <td>0</td>\n",
       "    </tr>\n",
       "  </tbody>\n",
       "</table>\n",
       "</div>"
      ],
      "text/plain": [
       "resultado     L  W\n",
       "mais_rebotes      \n",
       "No            5  4\n",
       "Yes           4  0"
      ]
     },
     "execution_count": 74,
     "metadata": {},
     "output_type": "execute_result"
    }
   ],
   "source": [
    "#Tabela de Contingência Resultado - Rebote\n",
    "pd.crosstab(index=df_pontos_no_assists_no['mais_rebotes'], columns=df_pontos_no_assists_no['resultado'])"
   ]
  },
  {
   "cell_type": "markdown",
   "id": "6cc80bf1",
   "metadata": {},
   "source": [
    "**Conclusões:**\n",
    "\n",
    "- Como se trata da última feature, para determinar o resultado provável (vitória ou derrota), devemos tomar o valor mais frequente.\n",
    "- Pela tabela de contingência, nota-se que em ambos os casos - mais de 8.9 rebotes e menos de 8.9 rebotes, o valor mais frequente é a derrota (L)"
   ]
  },
  {
   "cell_type": "markdown",
   "id": "bd075577",
   "metadata": {},
   "source": [
    "### Nó com menos de 33.6 pontos e mais de 8.2 assistências"
   ]
  },
  {
   "cell_type": "code",
   "execution_count": 75,
   "id": "fcca67dc",
   "metadata": {},
   "outputs": [
    {
     "data": {
      "text/html": [
       "<div>\n",
       "<style scoped>\n",
       "    .dataframe tbody tr th:only-of-type {\n",
       "        vertical-align: middle;\n",
       "    }\n",
       "\n",
       "    .dataframe tbody tr th {\n",
       "        vertical-align: top;\n",
       "    }\n",
       "\n",
       "    .dataframe thead th {\n",
       "        text-align: right;\n",
       "    }\n",
       "</style>\n",
       "<table border=\"1\" class=\"dataframe\">\n",
       "  <thead>\n",
       "    <tr style=\"text-align: right;\">\n",
       "      <th></th>\n",
       "      <th>mais_rebotes</th>\n",
       "      <th>mais_assistencias</th>\n",
       "      <th>mais_pontos</th>\n",
       "      <th>resultado</th>\n",
       "    </tr>\n",
       "  </thead>\n",
       "  <tbody>\n",
       "    <tr>\n",
       "      <th>count</th>\n",
       "      <td>12</td>\n",
       "      <td>12</td>\n",
       "      <td>12</td>\n",
       "      <td>12</td>\n",
       "    </tr>\n",
       "    <tr>\n",
       "      <th>unique</th>\n",
       "      <td>2</td>\n",
       "      <td>1</td>\n",
       "      <td>1</td>\n",
       "      <td>2</td>\n",
       "    </tr>\n",
       "    <tr>\n",
       "      <th>top</th>\n",
       "      <td>No</td>\n",
       "      <td>Yes</td>\n",
       "      <td>No</td>\n",
       "      <td>W</td>\n",
       "    </tr>\n",
       "    <tr>\n",
       "      <th>freq</th>\n",
       "      <td>7</td>\n",
       "      <td>12</td>\n",
       "      <td>12</td>\n",
       "      <td>7</td>\n",
       "    </tr>\n",
       "  </tbody>\n",
       "</table>\n",
       "</div>"
      ],
      "text/plain": [
       "       mais_rebotes mais_assistencias mais_pontos resultado\n",
       "count            12                12          12        12\n",
       "unique            2                 1           1         2\n",
       "top              No               Yes          No         W\n",
       "freq              7                12          12         7"
      ]
     },
     "execution_count": 75,
     "metadata": {},
     "output_type": "execute_result"
    }
   ],
   "source": [
    "df_pontos_no_assists_yes.describe()"
   ]
  },
  {
   "cell_type": "code",
   "execution_count": 76,
   "id": "a2cc17bd",
   "metadata": {},
   "outputs": [
    {
     "data": {
      "text/html": [
       "<div>\n",
       "<style scoped>\n",
       "    .dataframe tbody tr th:only-of-type {\n",
       "        vertical-align: middle;\n",
       "    }\n",
       "\n",
       "    .dataframe tbody tr th {\n",
       "        vertical-align: top;\n",
       "    }\n",
       "\n",
       "    .dataframe thead th {\n",
       "        text-align: right;\n",
       "    }\n",
       "</style>\n",
       "<table border=\"1\" class=\"dataframe\">\n",
       "  <thead>\n",
       "    <tr style=\"text-align: right;\">\n",
       "      <th>resultado</th>\n",
       "      <th>L</th>\n",
       "      <th>W</th>\n",
       "    </tr>\n",
       "    <tr>\n",
       "      <th>mais_rebotes</th>\n",
       "      <th></th>\n",
       "      <th></th>\n",
       "    </tr>\n",
       "  </thead>\n",
       "  <tbody>\n",
       "    <tr>\n",
       "      <th>No</th>\n",
       "      <td>4</td>\n",
       "      <td>3</td>\n",
       "    </tr>\n",
       "    <tr>\n",
       "      <th>Yes</th>\n",
       "      <td>1</td>\n",
       "      <td>4</td>\n",
       "    </tr>\n",
       "  </tbody>\n",
       "</table>\n",
       "</div>"
      ],
      "text/plain": [
       "resultado     L  W\n",
       "mais_rebotes      \n",
       "No            4  3\n",
       "Yes           1  4"
      ]
     },
     "execution_count": 76,
     "metadata": {},
     "output_type": "execute_result"
    }
   ],
   "source": [
    "#Tabela de Contingência Resultado - Rebote\n",
    "pd.crosstab(index=df_pontos_no_assists_yes['mais_rebotes'], columns=df_pontos_no_assists_yes['resultado'])"
   ]
  },
  {
   "cell_type": "markdown",
   "id": "a54566f9",
   "metadata": {},
   "source": [
    "**Conclusões:**\n",
    "\n",
    "- Pela tabela de contingência, nota-se que, quando pontos e rebotes são abaixo da média e apenas assistência é acima, o mais provável é a derrota (L). Por outro lado, quando assistências e rebotes são acima da média e apenas pontos abaixo, 80% dos casos geram vitória (W)."
   ]
  },
  {
   "cell_type": "markdown",
   "id": "1422854e",
   "metadata": {},
   "source": [
    "### Nó com mais de 33.6 pontos e menos de 8.2 assistências"
   ]
  },
  {
   "cell_type": "code",
   "execution_count": 77,
   "id": "02b82fbb",
   "metadata": {},
   "outputs": [
    {
     "data": {
      "text/html": [
       "<div>\n",
       "<style scoped>\n",
       "    .dataframe tbody tr th:only-of-type {\n",
       "        vertical-align: middle;\n",
       "    }\n",
       "\n",
       "    .dataframe tbody tr th {\n",
       "        vertical-align: top;\n",
       "    }\n",
       "\n",
       "    .dataframe thead th {\n",
       "        text-align: right;\n",
       "    }\n",
       "</style>\n",
       "<table border=\"1\" class=\"dataframe\">\n",
       "  <thead>\n",
       "    <tr style=\"text-align: right;\">\n",
       "      <th></th>\n",
       "      <th>mais_rebotes</th>\n",
       "      <th>mais_assistencias</th>\n",
       "      <th>mais_pontos</th>\n",
       "      <th>resultado</th>\n",
       "    </tr>\n",
       "  </thead>\n",
       "  <tbody>\n",
       "    <tr>\n",
       "      <th>count</th>\n",
       "      <td>12</td>\n",
       "      <td>12</td>\n",
       "      <td>12</td>\n",
       "      <td>12</td>\n",
       "    </tr>\n",
       "    <tr>\n",
       "      <th>unique</th>\n",
       "      <td>2</td>\n",
       "      <td>1</td>\n",
       "      <td>1</td>\n",
       "      <td>2</td>\n",
       "    </tr>\n",
       "    <tr>\n",
       "      <th>top</th>\n",
       "      <td>Yes</td>\n",
       "      <td>No</td>\n",
       "      <td>Yes</td>\n",
       "      <td>W</td>\n",
       "    </tr>\n",
       "    <tr>\n",
       "      <th>freq</th>\n",
       "      <td>8</td>\n",
       "      <td>12</td>\n",
       "      <td>12</td>\n",
       "      <td>8</td>\n",
       "    </tr>\n",
       "  </tbody>\n",
       "</table>\n",
       "</div>"
      ],
      "text/plain": [
       "       mais_rebotes mais_assistencias mais_pontos resultado\n",
       "count            12                12          12        12\n",
       "unique            2                 1           1         2\n",
       "top             Yes                No         Yes         W\n",
       "freq              8                12          12         8"
      ]
     },
     "execution_count": 77,
     "metadata": {},
     "output_type": "execute_result"
    }
   ],
   "source": [
    "df_pontos_yes_assists_no.describe()"
   ]
  },
  {
   "cell_type": "code",
   "execution_count": 78,
   "id": "f4592ce2",
   "metadata": {},
   "outputs": [
    {
     "data": {
      "text/html": [
       "<div>\n",
       "<style scoped>\n",
       "    .dataframe tbody tr th:only-of-type {\n",
       "        vertical-align: middle;\n",
       "    }\n",
       "\n",
       "    .dataframe tbody tr th {\n",
       "        vertical-align: top;\n",
       "    }\n",
       "\n",
       "    .dataframe thead th {\n",
       "        text-align: right;\n",
       "    }\n",
       "</style>\n",
       "<table border=\"1\" class=\"dataframe\">\n",
       "  <thead>\n",
       "    <tr style=\"text-align: right;\">\n",
       "      <th>resultado</th>\n",
       "      <th>L</th>\n",
       "      <th>W</th>\n",
       "    </tr>\n",
       "    <tr>\n",
       "      <th>mais_rebotes</th>\n",
       "      <th></th>\n",
       "      <th></th>\n",
       "    </tr>\n",
       "  </thead>\n",
       "  <tbody>\n",
       "    <tr>\n",
       "      <th>No</th>\n",
       "      <td>0</td>\n",
       "      <td>4</td>\n",
       "    </tr>\n",
       "    <tr>\n",
       "      <th>Yes</th>\n",
       "      <td>4</td>\n",
       "      <td>4</td>\n",
       "    </tr>\n",
       "  </tbody>\n",
       "</table>\n",
       "</div>"
      ],
      "text/plain": [
       "resultado     L  W\n",
       "mais_rebotes      \n",
       "No            0  4\n",
       "Yes           4  4"
      ]
     },
     "execution_count": 78,
     "metadata": {},
     "output_type": "execute_result"
    }
   ],
   "source": [
    "#Tabela de Contingência Resultado - Rebote\n",
    "pd.crosstab(index=df_pontos_yes_assists_no['mais_rebotes'], columns=df_pontos_yes_assists_no['resultado'])"
   ]
  },
  {
   "cell_type": "markdown",
   "id": "1328d54a",
   "metadata": {},
   "source": [
    "**Conclusões:**\n",
    "\n",
    "- Pela tabela de contingência, nota-se que, quando pontos é acima da média e assistências e rebotes abaixo, Dallas costuma se sair vitorioso. Por outro lado, não é possível concluir qual o resultado esperado quando pontos e rebotes são acima da média e assistência é abaixo."
   ]
  },
  {
   "cell_type": "markdown",
   "id": "bf5c08b8",
   "metadata": {},
   "source": [
    "### Nó com mais de 33.6 pontos e mais de 8.2 assistências"
   ]
  },
  {
   "cell_type": "code",
   "execution_count": 79,
   "id": "548b0014",
   "metadata": {},
   "outputs": [
    {
     "data": {
      "text/html": [
       "<div>\n",
       "<style scoped>\n",
       "    .dataframe tbody tr th:only-of-type {\n",
       "        vertical-align: middle;\n",
       "    }\n",
       "\n",
       "    .dataframe tbody tr th {\n",
       "        vertical-align: top;\n",
       "    }\n",
       "\n",
       "    .dataframe thead th {\n",
       "        text-align: right;\n",
       "    }\n",
       "</style>\n",
       "<table border=\"1\" class=\"dataframe\">\n",
       "  <thead>\n",
       "    <tr style=\"text-align: right;\">\n",
       "      <th></th>\n",
       "      <th>mais_rebotes</th>\n",
       "      <th>mais_assistencias</th>\n",
       "      <th>mais_pontos</th>\n",
       "      <th>resultado</th>\n",
       "    </tr>\n",
       "  </thead>\n",
       "  <tbody>\n",
       "    <tr>\n",
       "      <th>count</th>\n",
       "      <td>11</td>\n",
       "      <td>11</td>\n",
       "      <td>11</td>\n",
       "      <td>11</td>\n",
       "    </tr>\n",
       "    <tr>\n",
       "      <th>unique</th>\n",
       "      <td>2</td>\n",
       "      <td>1</td>\n",
       "      <td>1</td>\n",
       "      <td>2</td>\n",
       "    </tr>\n",
       "    <tr>\n",
       "      <th>top</th>\n",
       "      <td>Yes</td>\n",
       "      <td>Yes</td>\n",
       "      <td>Yes</td>\n",
       "      <td>W</td>\n",
       "    </tr>\n",
       "    <tr>\n",
       "      <th>freq</th>\n",
       "      <td>7</td>\n",
       "      <td>11</td>\n",
       "      <td>11</td>\n",
       "      <td>9</td>\n",
       "    </tr>\n",
       "  </tbody>\n",
       "</table>\n",
       "</div>"
      ],
      "text/plain": [
       "       mais_rebotes mais_assistencias mais_pontos resultado\n",
       "count            11                11          11        11\n",
       "unique            2                 1           1         2\n",
       "top             Yes               Yes         Yes         W\n",
       "freq              7                11          11         9"
      ]
     },
     "execution_count": 79,
     "metadata": {},
     "output_type": "execute_result"
    }
   ],
   "source": [
    "df_pontos_yes_assists_yes.describe()"
   ]
  },
  {
   "cell_type": "code",
   "execution_count": 80,
   "id": "82a28075",
   "metadata": {},
   "outputs": [
    {
     "data": {
      "text/html": [
       "<div>\n",
       "<style scoped>\n",
       "    .dataframe tbody tr th:only-of-type {\n",
       "        vertical-align: middle;\n",
       "    }\n",
       "\n",
       "    .dataframe tbody tr th {\n",
       "        vertical-align: top;\n",
       "    }\n",
       "\n",
       "    .dataframe thead th {\n",
       "        text-align: right;\n",
       "    }\n",
       "</style>\n",
       "<table border=\"1\" class=\"dataframe\">\n",
       "  <thead>\n",
       "    <tr style=\"text-align: right;\">\n",
       "      <th>resultado</th>\n",
       "      <th>L</th>\n",
       "      <th>W</th>\n",
       "    </tr>\n",
       "    <tr>\n",
       "      <th>mais_rebotes</th>\n",
       "      <th></th>\n",
       "      <th></th>\n",
       "    </tr>\n",
       "  </thead>\n",
       "  <tbody>\n",
       "    <tr>\n",
       "      <th>No</th>\n",
       "      <td>2</td>\n",
       "      <td>2</td>\n",
       "    </tr>\n",
       "    <tr>\n",
       "      <th>Yes</th>\n",
       "      <td>0</td>\n",
       "      <td>7</td>\n",
       "    </tr>\n",
       "  </tbody>\n",
       "</table>\n",
       "</div>"
      ],
      "text/plain": [
       "resultado     L  W\n",
       "mais_rebotes      \n",
       "No            2  2\n",
       "Yes           0  7"
      ]
     },
     "execution_count": 80,
     "metadata": {},
     "output_type": "execute_result"
    }
   ],
   "source": [
    "#Tabela de Contingência Resultado - Rebote\n",
    "pd.crosstab(index=df_pontos_yes_assists_yes['mais_rebotes'], columns=df_pontos_yes_assists_yes['resultado'])"
   ]
  },
  {
   "cell_type": "markdown",
   "id": "867f4e41",
   "metadata": {},
   "source": [
    "**Conclusões:**\n",
    "\n",
    "- Pela tabela de contingência, nota-se que, quando pontos, rebotes e assistências são acima da média, Dallas sempre sai vitorioso. Por outro lado, não é possível concluir qual o resultado esperado quando pontos e assistências são acima da média e rebotes é abaixo."
   ]
  },
  {
   "cell_type": "markdown",
   "id": "63f5dc39",
   "metadata": {},
   "source": [
    "## Visualização da Decision Tree"
   ]
  },
  {
   "cell_type": "code",
   "execution_count": 108,
   "id": "122e9eb6",
   "metadata": {},
   "outputs": [],
   "source": [
    "import numpy as np\n",
    "from sklearn.model_selection import train_test_split\n",
    "from sklearn import metrics\n",
    "from sklearn import tree\n",
    "from sklearn.tree import DecisionTreeClassifier\n",
    "from  io import StringIO\n",
    "import pydotplus\n",
    "import matplotlib.pyplot as plt\n",
    "import matplotlib.image as mpimg\n",
    "import scipy.optimize as opt"
   ]
  },
  {
   "cell_type": "code",
   "execution_count": 104,
   "id": "0e6d70d1",
   "metadata": {},
   "outputs": [],
   "source": [
    "df_viz = df.replace({'Yes': 0, 'No':1})"
   ]
  },
  {
   "cell_type": "code",
   "execution_count": 105,
   "id": "0248f396",
   "metadata": {},
   "outputs": [],
   "source": [
    "X_viz = df_viz[['mais_rebotes','mais_assistencias','mais_pontos']]\n",
    "y_viz = df_viz['resultado']"
   ]
  },
  {
   "cell_type": "code",
   "execution_count": 106,
   "id": "0caa6c2d",
   "metadata": {},
   "outputs": [],
   "source": [
    "X_train, X_test, y_train, y_test = train_test_split(X_viz, y_viz, test_size=0.000001, random_state=3)\n",
    "DecisionTree = DecisionTreeClassifier(criterion=\"gini\", max_depth = 4)\n",
    "DecisionTree.fit(X_train,y_train)\n",
    "y_previsto = DecisionTree.predict(X_test)"
   ]
  },
  {
   "cell_type": "code",
   "execution_count": 107,
   "id": "1bca5801",
   "metadata": {},
   "outputs": [
    {
     "data": {
      "text/plain": [
       "<matplotlib.image.AxesImage at 0x135c38bd100>"
      ]
     },
     "execution_count": 107,
     "metadata": {},
     "output_type": "execute_result"
    },
    {
     "data": {
      "image/png": "[encoded data removed]",
      "text/plain": [
       "<Figure size 2000x2000 with 1 Axes>"
      ]
     },
     "metadata": {},
     "output_type": "display_data"
    }
   ],
   "source": [
    "dot_data = StringIO()\n",
    "filename = \"decisiontree.png\"\n",
    "featureNames = df_viz.columns[0:3]\n",
    "out=tree.export_graphviz(DecisionTree,feature_names=featureNames, out_file=dot_data, class_names= np.unique(y_train), filled=True,  special_characters=True,rotate=False)  \n",
    "graph = pydotplus.graph_from_dot_data(dot_data.getvalue())  \n",
    "graph.write_png(filename)\n",
    "img = mpimg.imread(filename)\n",
    "plt.figure(figsize=(20, 20))\n",
    "plt.imshow(img,interpolation='nearest')"
   ]
  },
  {
   "cell_type": "markdown",
   "id": "a8c02496",
   "metadata": {},
   "source": [
    "## Comparação com modelo do scikit-learn"
   ]
  },
  {
   "cell_type": "code",
   "execution_count": 109,
   "id": "9d65c7e5",
   "metadata": {},
   "outputs": [],
   "source": [
    "df_2 = df.replace({'Yes': 0, 'No':1})"
   ]
  },
  {
   "cell_type": "code",
   "execution_count": 110,
   "id": "e1f0662b",
   "metadata": {},
   "outputs": [],
   "source": [
    "X = df_2[['mais_rebotes','mais_assistencias','mais_pontos']]\n",
    "y = df_2['resultado']"
   ]
  },
  {
   "cell_type": "code",
   "execution_count": 113,
   "id": "fb9c5032",
   "metadata": {},
   "outputs": [
    {
     "name": "stdout",
     "output_type": "stream",
     "text": [
      "A acurácia da árvore de decisão é de: 57.14%\n"
     ]
    }
   ],
   "source": [
    "X_train, X_test, y_train, y_test = train_test_split(X, y, test_size=0.42, random_state=3)\n",
    "DecisionTree = DecisionTreeClassifier(criterion=\"gini\", max_depth = 4)\n",
    "DecisionTree.fit(X_train,y_train)\n",
    "y_previsto = DecisionTree.predict(X_test)\n",
    "accuracy = metrics.accuracy_score(y_test, y_previsto)\n",
    "print(f\"A acurácia da árvore de decisão é de: {accuracy*100:.2f}%\")"
   ]
  },
  {
   "cell_type": "code",
   "execution_count": 114,
   "id": "4e64ac3f",
   "metadata": {},
   "outputs": [
    {
     "data": {
      "text/plain": [
       "<matplotlib.image.AxesImage at 0x135c6c05490>"
      ]
     },
     "execution_count": 114,
     "metadata": {},
     "output_type": "execute_result"
    },
    {
     "data": {
      "image/png": "[encoded data removed]",
      "text/plain": [
       "<Figure size 2000x2000 with 1 Axes>"
      ]
     },
     "metadata": {},
     "output_type": "display_data"
    }
   ],
   "source": [
    "dot_data = StringIO()\n",
    "filename = \"decisiontree.png\"\n",
    "featureNames = df_2.columns[0:3]\n",
    "out=tree.export_graphviz(DecisionTree,feature_names=featureNames, out_file=dot_data, class_names= np.unique(y_train), filled=True,  special_characters=True,rotate=False)  \n",
    "graph = pydotplus.graph_from_dot_data(dot_data.getvalue())  \n",
    "graph.write_png(filename)\n",
    "img = mpimg.imread(filename)\n",
    "plt.figure(figsize=(20, 20))\n",
    "plt.imshow(img,interpolation='nearest')"
   ]
  },
  {
   "cell_type": "markdown",
   "id": "811e202c",
   "metadata": {},
   "source": [
    "**Semelhanças e Diferenças entre o modelo feito à mão e o modelo feito no Scikit-Learn:**\n",
    "1. No modelo feito à mão, não foi feito o train-test split, enquanto no modelo do scikit-learn tal ação foi feita, deixando 58% da amostra para treino e 42% para teste.\n",
    "2. Apesar dessa diferença, os resultados encontrados foram bastante semelhantes. Basicamente, a única diferença de resultado observada ocorreu quando Doncic fez mais de 33,6 pontos e mais de 8,2 assistências, mas não superou sua média de rebotes: no primeiro modelo, o resultado esperado é derrota; já no segundo modelo, o resultado esperado é que a equipe Dallas saia vitoriosa. Em todos os outros 7 casos, os \"palpites\" dos dois modelos são os mesmos"
   ]
  }
 ],
 "metadata": {
  "kernelspec": {
   "display_name": "Python 3",
   "language": "python",
   "name": "python3"
  },
  "language_info": {
   "codemirror_mode": {
    "name": "ipython",
    "version": 3
   },
   "file_extension": ".py",
   "mimetype": "text/x-python",
   "name": "python",
   "nbconvert_exporter": "python",
   "pygments_lexer": "ipython3",
   "version": "3.8.8"
  }
 },
 "nbformat": 4,
 "nbformat_minor": 5
}
